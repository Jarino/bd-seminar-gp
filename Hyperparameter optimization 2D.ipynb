{
 "cells": [
  {
   "cell_type": "code",
   "execution_count": 5,
   "metadata": {},
   "outputs": [],
   "source": [
    "from pycgp.benchmarks.symbolic2d import X_train, y_train, X_test, y_test, PARAMS, EV_PARAMS\n",
    "from pycgp.evolution import evolution\n",
    "from sklearn.neural_network import MLPRegressor\n",
    "from sklearn.metrics import mean_squared_error\n",
    "from bayes_opt import BayesianOptimization"
   ]
  },
  {
   "cell_type": "code",
   "execution_count": 6,
   "metadata": {},
   "outputs": [],
   "source": [
    "def mlp_evaluate(hidden_layer_sizes):\n",
    "    est = MLPRegressor(max_iter=100000, solver='lbfgs', hidden_layer_sizes=int(hidden_layer_sizes), random_state=0)\n",
    "    est.fit(X_train, y_train)\n",
    "    return -mean_squared_error(est.predict(X_test), y_test)\n",
    "    \n",
    "\n",
    "mlpBO = BayesianOptimization(mlp_evaluate, {\n",
    "    'hidden_layer_sizes': (1, 1000)\n",
    "}, random_state=0)"
   ]
  },
  {
   "cell_type": "code",
   "execution_count": 7,
   "metadata": {
    "scrolled": true
   },
   "outputs": [
    {
     "name": "stdout",
     "output_type": "stream",
     "text": [
      "\u001b[31mInitialization\u001b[0m\n",
      "\u001b[94m----------------------------------------------------\u001b[0m\n",
      " Step |   Time |      Value |   hidden_layer_sizes | \n",
      "    1 | 00m00s | \u001b[35m  -0.00070\u001b[0m | \u001b[32m            549.2647\u001b[0m | \n",
      "    2 | 00m00s |   -0.00080 |             715.4742 | \n",
      "    3 | 00m00s | \u001b[35m  -0.00057\u001b[0m | \u001b[32m            603.1606\u001b[0m | \n",
      "    4 | 00m00s |   -0.00073 |             545.3383 | \n",
      "    5 | 00m00s |   -0.00063 |             424.2311 | \n"
     ]
    },
    {
     "name": "stderr",
     "output_type": "stream",
     "text": [
      "/home/jarino/anaconda3/lib/python3.6/site-packages/sklearn/gaussian_process/gpr.py:457: UserWarning: fmin_l_bfgs_b terminated abnormally with the  state: {'grad': array([-5.62120695e-05]), 'task': b'ABNORMAL_TERMINATION_IN_LNSRCH', 'funcalls': 55, 'nit': 5, 'warnflag': 2}\n",
      "  \" state: %s\" % convergence_dict)\n",
      "/home/jarino/anaconda3/lib/python3.6/site-packages/sklearn/gaussian_process/gpr.py:457: UserWarning: fmin_l_bfgs_b terminated abnormally with the  state: {'grad': array([-0.00409453]), 'task': b'ABNORMAL_TERMINATION_IN_LNSRCH', 'funcalls': 50, 'nit': 5, 'warnflag': 2}\n",
      "  \" state: %s\" % convergence_dict)\n",
      "/home/jarino/anaconda3/lib/python3.6/site-packages/sklearn/gaussian_process/gpr.py:457: UserWarning: fmin_l_bfgs_b terminated abnormally with the  state: {'grad': array([-0.00015004]), 'task': b'ABNORMAL_TERMINATION_IN_LNSRCH', 'funcalls': 72, 'nit': 7, 'warnflag': 2}\n",
      "  \" state: %s\" % convergence_dict)\n",
      "/home/jarino/anaconda3/lib/python3.6/site-packages/sklearn/gaussian_process/gpr.py:457: UserWarning: fmin_l_bfgs_b terminated abnormally with the  state: {'grad': array([0.00030576]), 'task': b'ABNORMAL_TERMINATION_IN_LNSRCH', 'funcalls': 90, 'nit': 9, 'warnflag': 2}\n",
      "  \" state: %s\" % convergence_dict)\n",
      "/home/jarino/anaconda3/lib/python3.6/site-packages/sklearn/gaussian_process/gpr.py:457: UserWarning: fmin_l_bfgs_b terminated abnormally with the  state: {'grad': array([-0.00049716]), 'task': b'ABNORMAL_TERMINATION_IN_LNSRCH', 'funcalls': 73, 'nit': 8, 'warnflag': 2}\n",
      "  \" state: %s\" % convergence_dict)\n",
      "/home/jarino/anaconda3/lib/python3.6/site-packages/sklearn/gaussian_process/gpr.py:457: UserWarning: fmin_l_bfgs_b terminated abnormally with the  state: {'grad': array([-0.00092655]), 'task': b'ABNORMAL_TERMINATION_IN_LNSRCH', 'funcalls': 50, 'nit': 4, 'warnflag': 2}\n",
      "  \" state: %s\" % convergence_dict)\n",
      "/home/jarino/anaconda3/lib/python3.6/site-packages/sklearn/gaussian_process/gpr.py:457: UserWarning: fmin_l_bfgs_b terminated abnormally with the  state: {'grad': array([-1.67781254e-05]), 'task': b'ABNORMAL_TERMINATION_IN_LNSRCH', 'funcalls': 89, 'nit': 8, 'warnflag': 2}\n",
      "  \" state: %s\" % convergence_dict)\n",
      "/home/jarino/anaconda3/lib/python3.6/site-packages/sklearn/gaussian_process/gpr.py:335: UserWarning: Predicted variances smaller than 0. Setting those variances to 0.\n",
      "  warnings.warn(\"Predicted variances smaller than 0. \"\n"
     ]
    },
    {
     "name": "stdout",
     "output_type": "stream",
     "text": [
      "\u001b[31mBayesian Optimization\u001b[0m\n",
      "\u001b[94m----------------------------------------------------\u001b[0m\n",
      " Step |   Time |      Value |   hidden_layer_sizes | \n",
      "    6 | 00m07s |   -0.21362 |               1.0033 | \n",
      "    7 | 00m06s |   -0.00064 |             999.9990 | \n",
      "    8 | 00m07s | \u001b[35m  -0.00036\u001b[0m | \u001b[32m            891.2532\u001b[0m | \n"
     ]
    },
    {
     "name": "stderr",
     "output_type": "stream",
     "text": [
      "/home/jarino/anaconda3/lib/python3.6/site-packages/sklearn/gaussian_process/gpr.py:457: UserWarning: fmin_l_bfgs_b terminated abnormally with the  state: {'grad': array([-9.04588906e-05]), 'task': b'ABNORMAL_TERMINATION_IN_LNSRCH', 'funcalls': 63, 'nit': 6, 'warnflag': 2}\n",
      "  \" state: %s\" % convergence_dict)\n",
      "/home/jarino/anaconda3/lib/python3.6/site-packages/sklearn/gaussian_process/gpr.py:457: UserWarning: fmin_l_bfgs_b terminated abnormally with the  state: {'grad': array([1.53613382e-05]), 'task': b'ABNORMAL_TERMINATION_IN_LNSRCH', 'funcalls': 58, 'nit': 6, 'warnflag': 2}\n",
      "  \" state: %s\" % convergence_dict)\n"
     ]
    },
    {
     "name": "stdout",
     "output_type": "stream",
     "text": [
      "    9 | 00m06s |   -0.00053 |             807.0054 | \n",
      "   10 | 00m06s |   -0.00065 |             954.2451 | \n",
      "   11 | 00m06s |   -0.00066 |             463.0249 | \n",
      "   12 | 00m04s |   -0.00043 |             846.7623 | \n"
     ]
    },
    {
     "name": "stderr",
     "output_type": "stream",
     "text": [
      "/home/jarino/anaconda3/lib/python3.6/site-packages/sklearn/gaussian_process/gpr.py:457: UserWarning: fmin_l_bfgs_b terminated abnormally with the  state: {'grad': array([-0.00247016]), 'task': b'ABNORMAL_TERMINATION_IN_LNSRCH', 'funcalls': 62, 'nit': 5, 'warnflag': 2}\n",
      "  \" state: %s\" % convergence_dict)\n",
      "/home/jarino/anaconda3/lib/python3.6/site-packages/sklearn/gaussian_process/gpr.py:457: UserWarning: fmin_l_bfgs_b terminated abnormally with the  state: {'grad': array([-0.00077225]), 'task': b'ABNORMAL_TERMINATION_IN_LNSRCH', 'funcalls': 51, 'nit': 6, 'warnflag': 2}\n",
      "  \" state: %s\" % convergence_dict)\n"
     ]
    },
    {
     "name": "stdout",
     "output_type": "stream",
     "text": [
      "   13 | 00m07s |   -0.00050 |             881.4258 | \n",
      "   14 | 00m07s |   -0.00054 |             342.1928 | \n"
     ]
    },
    {
     "name": "stderr",
     "output_type": "stream",
     "text": [
      "/home/jarino/anaconda3/lib/python3.6/site-packages/sklearn/gaussian_process/gpr.py:457: UserWarning: fmin_l_bfgs_b terminated abnormally with the  state: {'grad': array([0.00241068]), 'task': b'ABNORMAL_TERMINATION_IN_LNSRCH', 'funcalls': 60, 'nit': 4, 'warnflag': 2}\n",
      "  \" state: %s\" % convergence_dict)\n",
      "/home/jarino/anaconda3/lib/python3.6/site-packages/sklearn/gaussian_process/gpr.py:457: UserWarning: fmin_l_bfgs_b terminated abnormally with the  state: {'grad': array([0.0025339]), 'task': b'ABNORMAL_TERMINATION_IN_LNSRCH', 'funcalls': 56, 'nit': 5, 'warnflag': 2}\n",
      "  \" state: %s\" % convergence_dict)\n"
     ]
    },
    {
     "name": "stdout",
     "output_type": "stream",
     "text": [
      "   15 | 00m06s |   -0.00077 |             378.5190 | \n"
     ]
    },
    {
     "name": "stderr",
     "output_type": "stream",
     "text": [
      "/home/jarino/anaconda3/lib/python3.6/site-packages/sklearn/gaussian_process/gpr.py:457: UserWarning: fmin_l_bfgs_b terminated abnormally with the  state: {'grad': array([-0.00111128]), 'task': b'ABNORMAL_TERMINATION_IN_LNSRCH', 'funcalls': 73, 'nit': 7, 'warnflag': 2}\n",
      "  \" state: %s\" % convergence_dict)\n",
      "/home/jarino/anaconda3/lib/python3.6/site-packages/sklearn/gaussian_process/gpr.py:457: UserWarning: fmin_l_bfgs_b terminated abnormally with the  state: {'grad': array([-5.98356128e-05]), 'task': b'ABNORMAL_TERMINATION_IN_LNSRCH', 'funcalls': 55, 'nit': 6, 'warnflag': 2}\n",
      "  \" state: %s\" % convergence_dict)\n"
     ]
    },
    {
     "name": "stdout",
     "output_type": "stream",
     "text": [
      "CPU times: user 1min 14s, sys: 5.72 s, total: 1min 20s\n",
      "Wall time: 1min 13s\n"
     ]
    }
   ],
   "source": [
    "%%time\n",
    "mlpBO.maximize(init_points=5, n_iter=10)"
   ]
  },
  {
   "cell_type": "code",
   "execution_count": 9,
   "metadata": {},
   "outputs": [
    {
     "data": {
      "text/plain": [
       "{'max_params': {'hidden_layer_sizes': 891.2531504674548},\n",
       " 'max_val': -0.00035851959515088405}"
      ]
     },
     "execution_count": 9,
     "metadata": {},
     "output_type": "execute_result"
    }
   ],
   "source": [
    "mlpBO.res['max']"
   ]
  },
  {
   "cell_type": "code",
   "execution_count": 26,
   "metadata": {},
   "outputs": [],
   "source": [
    "import random\n",
    "from copy import deepcopy\n",
    "from pycgp.mutation import probabilistic_mutation\n",
    "from pycgp.evolution import evolution\n",
    "\n",
    "def pycgp_evaluate(columns):\n",
    "    params = deepcopy(PARAMS)\n",
    "    params['n_cols'] = int(columns)\n",
    "    ev_params = deepcopy(EV_PARAMS)\n",
    "    ev_params['max_evaluations'] = 10000\n",
    "    ev_params['mutation'] = probabilistic_mutation\n",
    "    \n",
    "    random.seed(0)\n",
    "    \n",
    "    result = evolution(params, ev_params, X_train, y_train)\n",
    "    \n",
    "    individual = result['final'][0]\n",
    "    \n",
    "    return -mean_squared_error(individual.execute(X_test), y_test)\n",
    "\n",
    "pycgpBO = BayesianOptimization(pycgp_evaluate, {\n",
    "    'columns': (1, 100)\n",
    "}, random_state=0)"
   ]
  },
  {
   "cell_type": "code",
   "execution_count": 30,
   "metadata": {},
   "outputs": [
    {
     "name": "stdout",
     "output_type": "stream",
     "text": [
      "\u001b[31mInitialization\u001b[0m\n",
      "\u001b[94m-----------------------------------------\u001b[0m\n",
      " Step |   Time |      Value |   columns | \n",
      "    1 | 00m22s | \u001b[35m  -0.03572\u001b[0m | \u001b[32m  55.3325\u001b[0m | \n",
      "    2 | 00m23s |   -0.04327 |   71.8037 | \n",
      "    3 | 00m19s |   -0.04327 |   60.6736 | \n",
      "    4 | 00m25s |   -0.14107 |   54.9434 | \n",
      "    5 | 00m15s | \u001b[35m  -0.00000\u001b[0m | \u001b[32m  42.9418\u001b[0m | \n",
      "    6 | 00m28s |   -0.09116 |   64.9435 | \n",
      "    7 | 00m19s |   -0.04748 |   44.3211 | \n",
      "    8 | 00m27s |   -0.11747 |   89.2855 | \n",
      "    9 | 00m46s |   -0.04481 |   96.4026 | \n",
      "   10 | 00m18s |   -0.00103 |   38.9607 | \n",
      "\u001b[31mBayesian Optimization\u001b[0m\n",
      "\u001b[94m-----------------------------------------\u001b[0m\n",
      " Step |   Time |      Value |   columns | \n",
      "   11 | 00m09s |   -0.19311 |    1.0000 | \n",
      "   12 | 00m22s |   -0.06654 |   20.5407 | \n",
      "   13 | 00m11s |   -0.05819 |   10.9727 | \n",
      "   14 | 00m23s |   -0.03202 |   29.4283 | \n",
      "   15 | 00m33s | \u001b[35m  -0.00000\u001b[0m | \u001b[32m  80.5252\u001b[0m | \n",
      "   16 | 00m38s |   -0.14933 |  100.0000 | \n",
      "   17 | 00m12s |   -0.20927 |    6.0918 | \n",
      "   18 | 00m16s |   -0.14601 |   15.8636 | \n",
      "   19 | 00m25s |   -0.14601 |   33.9351 | \n",
      "   20 | 00m46s |   -0.03202 |   76.3665 | \n",
      "CPU times: user 7min 38s, sys: 3.5 s, total: 7min 42s\n",
      "Wall time: 8min 10s\n"
     ]
    }
   ],
   "source": [
    "%%time\n",
    "pycgpBO.maximize(init_points=5, n_iter=10)"
   ]
  },
  {
   "cell_type": "code",
   "execution_count": 31,
   "metadata": {},
   "outputs": [
    {
     "data": {
      "text/plain": [
       "{'max_params': {'columns': 80.52524396072644},\n",
       " 'max_val': -1.9644485432749804e-33}"
      ]
     },
     "execution_count": 31,
     "metadata": {},
     "output_type": "execute_result"
    }
   ],
   "source": [
    "pycgpBO.res['max']"
   ]
  },
  {
   "cell_type": "code",
   "execution_count": null,
   "metadata": {},
   "outputs": [],
   "source": []
  }
 ],
 "metadata": {
  "kernelspec": {
   "display_name": "Python 3",
   "language": "python",
   "name": "python3"
  },
  "language_info": {
   "codemirror_mode": {
    "name": "ipython",
    "version": 3
   },
   "file_extension": ".py",
   "mimetype": "text/x-python",
   "name": "python",
   "nbconvert_exporter": "python",
   "pygments_lexer": "ipython3",
   "version": "3.6.2"
  }
 },
 "nbformat": 4,
 "nbformat_minor": 2
}
