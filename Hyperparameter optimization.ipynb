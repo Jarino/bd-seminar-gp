{
 "cells": [
  {
   "cell_type": "code",
   "execution_count": 19,
   "metadata": {},
   "outputs": [],
   "source": [
    "from pycgp.benchmarks.symbolic import X, y, PARAMS, EV_PARAMS\n",
    "from pycgp.evolution import evolution\n",
    "from sklearn.neural_network import MLPRegressor\n",
    "from sklearn.metrics import mean_squared_error\n",
    "from bayes_opt import BayesianOptimization"
   ]
  },
  {
   "cell_type": "code",
   "execution_count": 45,
   "metadata": {},
   "outputs": [],
   "source": [
    "def mlp_evaluate(hidden_layer_sizes):\n",
    "    est = MLPRegressor(max_iter=100000, solver='lbfgs', hidden_layer_sizes=int(hidden_layer_sizes), random_state=0)\n",
    "    est.fit(X, y)\n",
    "    return -mean_squared_error(est.predict(X), y)\n",
    "    \n",
    "\n",
    "mlpBO = BayesianOptimization(mlp_evaluate, {\n",
    "    'hidden_layer_sizes': (1, 1000)\n",
    "}, random_state=0)"
   ]
  },
  {
   "cell_type": "code",
   "execution_count": 46,
   "metadata": {},
   "outputs": [
    {
     "name": "stdout",
     "output_type": "stream",
     "text": [
      "CPU times: user 0 ns, sys: 0 ns, total: 0 ns\n",
      "Wall time: 6.68 µs\n",
      "\u001b[31mInitialization\u001b[0m\n",
      "\u001b[94m----------------------------------------------------\u001b[0m\n",
      " Step |   Time |      Value |   hidden_layer_sizes | \n",
      "    1 | 00m00s | \u001b[35m  -0.19169\u001b[0m | \u001b[32m            549.2647\u001b[0m | \n",
      "    2 | 00m01s | \u001b[35m  -0.16866\u001b[0m | \u001b[32m            715.4742\u001b[0m | \n",
      "    3 | 00m00s |   -0.19255 |             603.1606 | \n",
      "    4 | 00m06s | \u001b[35m  -0.13024\u001b[0m | \u001b[32m            545.3383\u001b[0m | \n",
      "    5 | 00m01s |   -0.16740 |             424.2311 | \n",
      "\u001b[31mBayesian Optimization\u001b[0m\n",
      "\u001b[94m----------------------------------------------------\u001b[0m\n",
      " Step |   Time |      Value |   hidden_layer_sizes | \n",
      "    6 | 00m01s |   -0.56067 |               1.0033 | \n",
      "    7 | 00m04s |   -0.16998 |            1000.0000 | \n",
      "    8 | 00m02s |   -0.18999 |             218.8185 | \n",
      "    9 | 00m10s |   -0.13191 |             859.9811 | \n",
      "   10 | 00m01s |   -0.18042 |             116.1109 | \n",
      "   11 | 00m02s |   -0.17704 |             318.8041 | \n",
      "   12 | 00m02s |   -0.18216 |             929.5150 | \n",
      "   13 | 00m02s |   -0.19198 |             483.2233 | \n",
      "   14 | 00m04s |   -0.16695 |             788.0103 | \n",
      "   15 | 00m04s |   -0.13612 |             658.8636 | \n"
     ]
    }
   ],
   "source": [
    "%time\n",
    "mlpBO.maximize(init_points=5, n_iter=10)"
   ]
  },
  {
   "cell_type": "code",
   "execution_count": 47,
   "metadata": {},
   "outputs": [
    {
     "data": {
      "text/plain": [
       "{'max_params': {'hidden_layer_sizes': 545.3382998139},\n",
       " 'max_val': -0.1302382804803266}"
      ]
     },
     "execution_count": 47,
     "metadata": {},
     "output_type": "execute_result"
    }
   ],
   "source": [
    "mlpBO.res['max']"
   ]
  },
  {
   "cell_type": "code",
   "execution_count": 48,
   "metadata": {},
   "outputs": [
    {
     "data": {
      "text/plain": [
       "MLPRegressor(activation='relu', alpha=0.0001, batch_size='auto', beta_1=0.9,\n",
       "       beta_2=0.999, early_stopping=False, epsilon=1e-08,\n",
       "       hidden_layer_sizes=545, learning_rate='constant',\n",
       "       learning_rate_init=0.001, max_iter=100000, momentum=0.9,\n",
       "       nesterovs_momentum=True, power_t=0.5, random_state=0, shuffle=True,\n",
       "       solver='lbfgs', tol=0.0001, validation_fraction=0.1, verbose=False,\n",
       "       warm_start=False)"
      ]
     },
     "execution_count": 48,
     "metadata": {},
     "output_type": "execute_result"
    }
   ],
   "source": [
    "est = MLPRegressor(max_iter=100000, solver='lbfgs', hidden_layer_sizes=545, random_state=0)\n",
    "est.fit(X, y)"
   ]
  },
  {
   "cell_type": "code",
   "execution_count": 49,
   "metadata": {},
   "outputs": [],
   "source": [
    "import matplotlib.pyplot as plt\n",
    "%matplotlib inline"
   ]
  },
  {
   "cell_type": "code",
   "execution_count": 50,
   "metadata": {},
   "outputs": [
    {
     "data": {
      "text/plain": [
       "[<matplotlib.lines.Line2D at 0x7fdefe53a8d0>]"
      ]
     },
     "execution_count": 50,
     "metadata": {},
     "output_type": "execute_result"
    },
    {
     "data": {
      "image/png": "[encoded data removed]",
      "text/plain": [
       "<matplotlib.figure.Figure at 0x7fdefdc7fa20>"
      ]
     },
     "metadata": {},
     "output_type": "display_data"
    }
   ],
   "source": [
    "plt.plot(X, y)\n",
    "plt.plot(X, est.predict(X))"
   ]
  },
  {
   "cell_type": "markdown",
   "metadata": {},
   "source": [
    "# Hyperparameters for PyCGP"
   ]
  },
  {
   "cell_type": "code",
   "execution_count": 53,
   "metadata": {},
   "outputs": [],
   "source": [
    "from pycgp.mutation import probabilistic_mutation\n",
    "\n",
    "def pycgp_evaluate(columns):\n",
    "    params = deepcopy(PARAMS)\n",
    "    params['n_cols'] = int(columns)\n",
    "    ev_params = deepcopy(EV_PARAMS)\n",
    "    ev_params['max_evaluations'] = 10000\n",
    "    ev_params['mutation'] = probabilistic_mutation\n",
    "    \n",
    "    random.seed(0)\n",
    "    \n",
    "    result = evolution(params, ev_params, X, y)\n",
    "    \n",
    "    individual = result['final'][0]\n",
    "    \n",
    "    return -mean_squared_error(individual.execute(X), y)\n",
    "\n",
    "pycgpBO = BayesianOptimization(pycgp_evaluate, {\n",
    "    'columns': (1, 100)\n",
    "}, random_state=0)"
   ]
  },
  {
   "cell_type": "code",
   "execution_count": 54,
   "metadata": {},
   "outputs": [
    {
     "name": "stdout",
     "output_type": "stream",
     "text": [
      "\u001b[31mInitialization\u001b[0m\n",
      "\u001b[94m-----------------------------------------\u001b[0m\n",
      " Step |   Time |      Value |   columns | \n",
      "    1 | 00m30s | \u001b[35m  -0.32041\u001b[0m | \u001b[32m  55.3325\u001b[0m | \n",
      "    2 | 00m38s | \u001b[35m  -0.17718\u001b[0m | \u001b[32m  71.8037\u001b[0m | \n",
      "    3 | 00m35s |   -0.25464 |   60.6736 | \n",
      "    4 | 00m35s | \u001b[35m  -0.16776\u001b[0m | \u001b[32m  54.9434\u001b[0m | \n",
      "    5 | 00m30s |   -0.16776 |   42.9418 | \n",
      "\u001b[31mBayesian Optimization\u001b[0m\n",
      "\u001b[94m-----------------------------------------\u001b[0m\n",
      " Step |   Time |      Value |   columns | \n",
      "    6 | 00m09s |   -0.60134 |    1.0000 | \n",
      "    7 | 00m52s |   -0.33632 |   99.9999 | \n",
      "    8 | 00m26s | \u001b[35m  -0.00000\u001b[0m | \u001b[32m  23.0744\u001b[0m | \n",
      "    9 | 00m50s |   -0.12414 |   85.3227 | \n",
      "   10 | 00m24s |   -0.16776 |   13.7343 | \n",
      "   11 | 00m11s |   -0.00000 |   32.2945 | \n",
      "   12 | 00m36s |   -0.20751 |   49.3289 | \n",
      "   13 | 01m08s |   -0.17211 |   92.3634 | \n",
      "   14 | 01m13s |   -0.17718 |   78.6399 | \n"
     ]
    },
    {
     "name": "stderr",
     "output_type": "stream",
     "text": [
      "/home/jarino/anaconda3/lib/python3.6/site-packages/sklearn/metrics/regression.py:239: RuntimeWarning: overflow encountered in square\n",
      "  output_errors = np.average((y_true - y_pred) ** 2, axis=0,\n"
     ]
    },
    {
     "name": "stdout",
     "output_type": "stream",
     "text": [
      "   15 | 00m53s |   -0.25464 |   66.1400 | \n",
      "CPU times: user 9min 6s, sys: 3.03 s, total: 9min 9s\n",
      "Wall time: 9min 39s\n"
     ]
    }
   ],
   "source": [
    "%%time\n",
    "pycgpBO.maximize(init_points=5, n_iter=10)"
   ]
  },
  {
   "cell_type": "code",
   "execution_count": 56,
   "metadata": {},
   "outputs": [
    {
     "data": {
      "text/plain": [
       "{'cost_func': <function sklearn.metrics.regression.mean_squared_error>,\n",
       " 'target_fitness': 0}"
      ]
     },
     "execution_count": 56,
     "metadata": {},
     "output_type": "execute_result"
    }
   ],
   "source": [
    "EV_PARAMS"
   ]
  },
  {
   "cell_type": "code",
   "execution_count": null,
   "metadata": {},
   "outputs": [],
   "source": []
  }
 ],
 "metadata": {
  "kernelspec": {
   "display_name": "Python 3",
   "language": "python",
   "name": "python3"
  },
  "language_info": {
   "codemirror_mode": {
    "name": "ipython",
    "version": 3
   },
   "file_extension": ".py",
   "mimetype": "text/x-python",
   "name": "python",
   "nbconvert_exporter": "python",
   "pygments_lexer": "ipython3",
   "version": "3.6.2"
  }
 },
 "nbformat": 4,
 "nbformat_minor": 2
}
